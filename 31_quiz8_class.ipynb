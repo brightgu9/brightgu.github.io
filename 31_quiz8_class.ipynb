{
 "cells": [
  {
   "cell_type": "markdown",
   "metadata": {},
   "source": [
    "Quiz. 부동산 프로그램"
   ]
  },
  {
   "cell_type": "markdown",
   "metadata": {},
   "source": [
    "(출력 예제)\n",
    "총 3대의 매물\n",
    "강남 아파트 매매 10억 2010년\n",
    "마포 오피스텔 전세 5억 2007년\n",
    "송파 빌라 월세 500/50 2000년"
   ]
  },
  {
   "cell_type": "code",
   "execution_count": 1,
   "metadata": {},
   "outputs": [
    {
     "name": "stdout",
     "output_type": "stream",
     "text": [
      "총 3대의 매물이 있습니다.\n",
      "강남 아파트 매매 10억 2010년\n",
      "마포 오피스텔 전세 5억 2007년\n",
      "송파 빌라 월세 500/50 2000년\n"
     ]
    }
   ],
   "source": [
    "class House:\n",
    "    # 매물 초기화\n",
    "    def __init__(self, location, house_type, deal_type, price, completion_year):\n",
    "        self.location = location\n",
    "        self.house_type = house_type\n",
    "        self.deal_type = deal_type\n",
    "        self.price = price\n",
    "        self.completion_year = completion_year\n",
    "    def show_detail(self):\n",
    "        print(self.location, self.house_type, self.deal_type, \\\n",
    "              self.price, self.completion_year)\n",
    "        \n",
    "houses = []\n",
    "house1 = House(\"강남\", \"아파트\", \"매매\", \"10억\", \"2010년\")\n",
    "house2 = House(\"마포\", \"오피스텔\", \"전세\", \"5억\", \"2007년\")\n",
    "house3 = House(\"송파\", \"빌라\", \"월세\", \"500/50\", \"2000년\")\n",
    "\n",
    "houses.append(house1)\n",
    "houses.append(house2)\n",
    "houses.append(house3)\n",
    "\n",
    "print(\"총 {0}대의 매물이 있습니다.\".format(len(houses)))\n",
    "for house in houses:\n",
    "    house.show_detail()"
   ]
  }
 ],
 "metadata": {
  "kernelspec": {
   "display_name": "base",
   "language": "python",
   "name": "python3"
  },
  "language_info": {
   "codemirror_mode": {
    "name": "ipython",
    "version": 3
   },
   "file_extension": ".py",
   "mimetype": "text/x-python",
   "name": "python",
   "nbconvert_exporter": "python",
   "pygments_lexer": "ipython3",
   "version": "3.11.5"
  }
 },
 "nbformat": 4,
 "nbformat_minor": 2
}
