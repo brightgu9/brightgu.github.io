{
 "cells": [
  {
   "cell_type": "markdown",
   "metadata": {},
   "source": [
    "패키지\n",
    "travel 폴더 참조"
   ]
  },
  {
   "cell_type": "code",
   "execution_count": 11,
   "metadata": {},
   "outputs": [],
   "source": [
    "# import travel.thailand\n",
    "# # import travel.thailand.ThailandPackage # import에서 바로 가져오면 오류\n",
    "\n",
    "# trip_to = travel.thailand.ThailandPackage()\n",
    "# trip_to.detail()\n",
    "\n",
    "# from travel.thailand import ThailandPackage # 이렇게 from 으로 사용 가능\n",
    "# trip_to = ThailandPackage()\n",
    "# trip_to.detail()\n",
    "\n",
    "# from travel import vietnam\n",
    "# trip_to = vietnam.VietnamPackage()\n",
    "# trip_to.detail()"
   ]
  },
  {
   "cell_type": "code",
   "execution_count": 16,
   "metadata": {},
   "outputs": [
    {
     "name": "stdout",
     "output_type": "stream",
     "text": [
      "[베트남 패키지 3박 5일] 다낭 효도 여행 60만원\n"
     ]
    }
   ],
   "source": [
    "# from random import *\n",
    "from travel import * \n",
    "trip_to = vietnam.VietnamPackage() # 오류 이유\n",
    "# travel 패키지에 모든 걸 가져오지만, 개발자가 공개를 해야 함\n",
    "trip_to.detail()\n"
   ]
  }
 ],
 "metadata": {
  "kernelspec": {
   "display_name": "base",
   "language": "python",
   "name": "python3"
  },
  "language_info": {
   "codemirror_mode": {
    "name": "ipython",
    "version": 3
   },
   "file_extension": ".py",
   "mimetype": "text/x-python",
   "name": "python",
   "nbconvert_exporter": "python",
   "pygments_lexer": "ipython3",
   "version": "3.11.5"
  }
 },
 "nbformat": 4,
 "nbformat_minor": 2
}
