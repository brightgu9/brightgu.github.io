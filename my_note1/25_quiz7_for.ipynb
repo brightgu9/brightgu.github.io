{
 "cells": [
  {
   "cell_type": "markdown",
   "metadata": {},
   "source": [
    "실행하면 50개 파일 생기니 주의"
   ]
  },
  {
   "cell_type": "code",
   "execution_count": 3,
   "metadata": {},
   "outputs": [],
   "source": [
    "# for i in range(1,51):\n",
    "#     with open(str(i)+\"주차.txt\", \"w\", encoding=\"utf8\") as report_file:\n",
    "#         report_file.write(\"- {0}주차 주간보고 - \".format(i))\n",
    "#         report_file.write(\"\\n부서 : \")\n",
    "#         report_file.write(\"\\n이름 : \")\n",
    "#         report_file.write(\"\\n업무 요약 : \")\n"
   ]
  }
 ],
 "metadata": {
  "kernelspec": {
   "display_name": "base",
   "language": "python",
   "name": "python3"
  },
  "language_info": {
   "codemirror_mode": {
    "name": "ipython",
    "version": 3
   },
   "file_extension": ".py",
   "mimetype": "text/x-python",
   "name": "python",
   "nbconvert_exporter": "python",
   "pygments_lexer": "ipython3",
   "version": "3.11.5"
  }
 },
 "nbformat": 4,
 "nbformat_minor": 2
}
