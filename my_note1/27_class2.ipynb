{
 "cells": [
  {
   "cell_type": "markdown",
   "metadata": {},
   "source": [
    "스타크래프트 간단하게 만들어보기 2"
   ]
  },
  {
   "cell_type": "markdown",
   "metadata": {},
   "source": [
    "메소드 오버라이딩"
   ]
  },
  {
   "cell_type": "code",
   "execution_count": 5,
   "metadata": {},
   "outputs": [
    {
     "name": "stdout",
     "output_type": "stream",
     "text": [
      "[지상 유닛 이동]\n",
      "벌쳐 : 11시 방향으로 이동합니다. [속도 10]\n",
      "[공중 유닛 이동]\n",
      "배틀크루져 : 9시 방향으로 날아갑니다. [속도 3]\n"
     ]
    }
   ],
   "source": [
    "# 일반 유닛\n",
    "class Unit: # 부모 클래스\n",
    "    def __init__(self, name, hp, speed): # 생성자\n",
    "        self.name = name # 멤버변수\n",
    "        self.hp = hp\n",
    "        self.speed = speed\n",
    "\n",
    "    def move(self, location):\n",
    "        print(\"[지상 유닛 이동]\")\n",
    "        print(\"{0} : {1} 방향으로 이동합니다. [속도 {2}]\"\\\n",
    "              .format(self.name, location, self.speed))\n",
    "# 메딕같은 데미지가 없는, 생성자에 빈칸이 있을때 공통된 생성자만 상속받게 \n",
    "\n",
    "# 공격 유닛\n",
    "class AttackUnit(Unit): # 상속 클래스\n",
    "    def __init__(self, name, hp, speed, damage): # 생성자\n",
    "        Unit.__init__(self, name, hp, speed)\n",
    "        self.damage = damage\n",
    "\n",
    "    def attack(self, location):\n",
    "        print(\"{0} : {1} 방향으로 적군을 공격합니다. [공격력 {2}]\" \\\n",
    "              .format(self.name, location, self.damage))\n",
    "        \n",
    "    def damaged(self, damage):\n",
    "        print(\"{0} : {1} 데미지를 입었습니다\".format(self.name, damage))\n",
    "        self.hp -= damage\n",
    "        print(\"{0} : 현재 체력은 {1}입니다.\".format(self.name, self.hp))\n",
    "        if self.hp <= 0:\n",
    "            print(\"{0} 이 파괴되었습니다.\".format(self.name))\n",
    "\n",
    "class Flyable:\n",
    "    def __init__(self, flying_speed):\n",
    "        self.flying_speed = flying_speed\n",
    "\n",
    "    def fly(self, name, location):\n",
    "        print(\"{0} : {1} 방향으로 날아갑니다. [속도 {2}]\"\\\n",
    "              .format(name, location, self.flying_speed))\n",
    "\n",
    "# 공중 공격 유닛 클래스\n",
    "class FlyAttackUnit(AttackUnit, Flyable): # 다중상속\n",
    "    def __init__(self, name, hp, damage, flying_speed):\n",
    "        AttackUnit.__init__(self, name, hp, 0, damage) # 지상 speed 0\n",
    "        Flyable.__init__(self, flying_speed)\n",
    "\n",
    "    def move(self, location): # move 함수 재정의\n",
    "        print(\"[공중 유닛 이동]\")\n",
    "        self.fly(self.name, location)\n",
    "\n",
    "# 벌쳐 : 지상유닛, 기동성이 좋음\n",
    "vulture = AttackUnit(\"벌쳐\", 80, 10, 20)\n",
    "\n",
    "# 배틀크루져 : 공중 유닛\n",
    "battlecruiser = FlyAttackUnit(\"배틀크루져\", 500, 25, 3)\n",
    "\n",
    "vulture.move(\"11시\")\n",
    "battlecruiser.move(\"9시\")"
   ]
  }
 ],
 "metadata": {
  "kernelspec": {
   "display_name": "base",
   "language": "python",
   "name": "python3"
  },
  "language_info": {
   "codemirror_mode": {
    "name": "ipython",
    "version": 3
   },
   "file_extension": ".py",
   "mimetype": "text/x-python",
   "name": "python",
   "nbconvert_exporter": "python",
   "pygments_lexer": "ipython3",
   "version": "3.11.5"
  }
 },
 "nbformat": 4,
 "nbformat_minor": 2
}
