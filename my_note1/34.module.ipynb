{
 "cells": [
  {
   "cell_type": "markdown",
   "metadata": {},
   "source": [
    "모듈"
   ]
  },
  {
   "cell_type": "markdown",
   "metadata": {},
   "source": [
    "theater_module.py파일 참고"
   ]
  },
  {
   "cell_type": "code",
   "execution_count": 19,
   "metadata": {},
   "outputs": [
    {
     "name": "stdout",
     "output_type": "stream",
     "text": [
      "3명 가격은 30000원 입니다\n",
      "4명 조조할인 가격은 24000원 입니다\n",
      "5명 군인 할인 가격은 20000원 입니다\n"
     ]
    }
   ],
   "source": [
    "import theater_module\n",
    "theater_module.price(3) # 3명이서 영화보러 갔을 때 가격\n",
    "theater_module.price_morning(4)\n",
    "theater_module.price_soldier(5)"
   ]
  },
  {
   "cell_type": "code",
   "execution_count": 22,
   "metadata": {},
   "outputs": [
    {
     "name": "stdout",
     "output_type": "stream",
     "text": [
      "3명 가격은 30000원 입니다\n"
     ]
    }
   ],
   "source": [
    "import theater_module as mv\n",
    "mv.price(3)"
   ]
  },
  {
   "cell_type": "code",
   "execution_count": 26,
   "metadata": {},
   "outputs": [
    {
     "name": "stdout",
     "output_type": "stream",
     "text": [
      "3명 가격은 30000원 입니다\n",
      "4명 조조할인 가격은 24000원 입니다\n",
      "5명 군인 할인 가격은 20000원 입니다\n"
     ]
    }
   ],
   "source": [
    "from theater_module import *\n",
    "# 호출없이 사용가능\n",
    "price(3)\n",
    "price_morning(4)\n",
    "price_soldier(5)"
   ]
  },
  {
   "cell_type": "code",
   "execution_count": 31,
   "metadata": {},
   "outputs": [
    {
     "name": "stdout",
     "output_type": "stream",
     "text": [
      "5명 가격은 50000원 입니다\n",
      "2명 조조할인 가격은 12000원 입니다\n"
     ]
    }
   ],
   "source": [
    "from theater_module import price, price_morning\n",
    "\n",
    "price(5)\n",
    "price_morning(2)\n",
    "# price_soldier(3)  오류"
   ]
  },
  {
   "cell_type": "code",
   "execution_count": 34,
   "metadata": {},
   "outputs": [
    {
     "name": "stdout",
     "output_type": "stream",
     "text": [
      "5명 군인 할인 가격은 20000원 입니다\n"
     ]
    }
   ],
   "source": [
    "from theater_module import price_soldier as price\n",
    "\n",
    "price(5)"
   ]
  }
 ],
 "metadata": {
  "kernelspec": {
   "display_name": "base",
   "language": "python",
   "name": "python3"
  },
  "language_info": {
   "codemirror_mode": {
    "name": "ipython",
    "version": 3
   },
   "file_extension": ".py",
   "mimetype": "text/x-python",
   "name": "python",
   "nbconvert_exporter": "python",
   "pygments_lexer": "ipython3",
   "version": "3.11.5"
  }
 },
 "nbformat": 4,
 "nbformat_minor": 2
}
