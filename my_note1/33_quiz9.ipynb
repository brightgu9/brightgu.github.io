{
 "cells": [
  {
   "cell_type": "markdown",
   "metadata": {},
   "source": [
    "자동 주문 시스템<hr>\n",
    "\n",
    "조건1 : 1보다 작거나 숫자가 아닌 입력값이 들어올 때는 ValueError 로 처리\n",
    "\n",
    "        출력 메시지 : \"잘못된 값을 입력하였습니다.\"\n",
    "\n",
    "        \n",
    "조건2 : 대기 손님이 주문할 수 있는 총 치킨량은 10마리로 한정\n",
    "\n",
    "        치킨 소진 시 사용자 정의 에러[SoldOutError]를 발생시키고 프로그램 종료\n",
    "        출력 메시지 : \"재고가 소진되어 더 이상 주문을 받지 않습니다\""
   ]
  },
  {
   "cell_type": "code",
   "execution_count": 10,
   "metadata": {},
   "outputs": [
    {
     "name": "stdout",
     "output_type": "stream",
     "text": [
      "[남은 치킨 : 10]\n",
      "대기 손님은 10마리 이상 주문할 수 없습니다. [주문한 수량 : 10]\n",
      "[남은 치킨 : 10]\n",
      "[대기번호 1] 4 마리 주문이 완료되었습니다\n",
      "[남은 치킨 : 6]\n",
      "[대기번호 2] 5 마리 주문이 완료되었습니다\n",
      "[남은 치킨 : 1]\n",
      "재료가 부족합니다. [주문 가능한 치킨 1]\n",
      "[남은 치킨 : 1]\n",
      "[대기번호 3] 1 마리 주문이 완료되었습니다\n",
      "재고가 소진되어 더 이상 주문을 받지 않습니다.\n"
     ]
    }
   ],
   "source": [
    "class SoldOutError(Exception):\n",
    "    pass\n",
    "class WaitingOrderError(Exception):\n",
    "    pass\n",
    "\n",
    "chicken = 10\n",
    "waiting = 1 # 홀 안에는 현재 만석. 대기번호 1부터 시작\n",
    "while(True):\n",
    "    try:\n",
    "        print(\"[남은 치킨 : {0}]\".format(chicken))\n",
    "        order = int(input(\"치킨 몇 마리 주문하시겠습니까?\"))\n",
    "        if  order >= 10:\n",
    "            raise WaitingOrderError\n",
    "        elif order > chicken: # 남은 치킨보다 주문량이 많을 때\n",
    "            print(\"재료가 부족합니다. [주문 가능한 치킨 {0}]\".format(chicken))\n",
    "        elif order <= 0:\n",
    "            raise ValueError\n",
    "        else:\n",
    "            print(\"[대기번호 {0}] {1} 마리 주문이 완료되었습니다\" \\\n",
    "                .format(waiting, order))\n",
    "            waiting += 1\n",
    "            chicken -= order\n",
    "\n",
    "        if chicken == 0:\n",
    "            raise SoldOutError\n",
    "    except ValueError:\n",
    "        print(\"잘못된 값을 입력하였습니다. [주문한 수량 : {0}]\".format(order))\n",
    "    except WaitingOrderError:\n",
    "        print(\"대기 손님은 10마리 이상 주문할 수 없습니다. [주문한 수량 : {0}]\".format(order))\n",
    "    except SoldOutError:\n",
    "        print(\"재고가 소진되어 더 이상 주문을 받지 않습니다.\")\n",
    "        break"
   ]
  }
 ],
 "metadata": {
  "kernelspec": {
   "display_name": "base",
   "language": "python",
   "name": "python3"
  },
  "language_info": {
   "codemirror_mode": {
    "name": "ipython",
    "version": 3
   },
   "file_extension": ".py",
   "mimetype": "text/x-python",
   "name": "python",
   "nbconvert_exporter": "python",
   "pygments_lexer": "ipython3",
   "version": "3.11.5"
  }
 },
 "nbformat": 4,
 "nbformat_minor": 2
}
