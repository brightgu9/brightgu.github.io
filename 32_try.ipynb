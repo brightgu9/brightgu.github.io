{
 "cells": [
  {
   "cell_type": "markdown",
   "metadata": {},
   "source": [
    "예외처리"
   ]
  },
  {
   "cell_type": "code",
   "execution_count": 7,
   "metadata": {},
   "outputs": [
    {
     "name": "stdout",
     "output_type": "stream",
     "text": [
      "division by zero\n"
     ]
    }
   ],
   "source": [
    "try:\n",
    "    num1 = int(input(\"첫 번째 숫자 입력 : \"))\n",
    "    num2 = int(input(\"두 번째 숫자 입력 : \"))\n",
    "    print(\"{0} / {1} = {2}\".format(num1, num2, int(num1/num2)))\n",
    "except ValueError:\n",
    "    print(\"[error] : 잘못된 값을 입력하였습니다\")\n",
    "except ZeroDivisionError as err:\n",
    "    print(err)"
   ]
  }
 ],
 "metadata": {
  "kernelspec": {
   "display_name": "base",
   "language": "python",
   "name": "python3"
  },
  "language_info": {
   "codemirror_mode": {
    "name": "ipython",
    "version": 3
   },
   "file_extension": ".py",
   "mimetype": "text/x-python",
   "name": "python",
   "nbconvert_exporter": "python",
   "pygments_lexer": "ipython3",
   "version": "3.11.5"
  }
 },
 "nbformat": 4,
 "nbformat_minor": 2
}
