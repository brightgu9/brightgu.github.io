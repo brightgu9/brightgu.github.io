{
 "cells": [
  {
   "cell_type": "code",
   "execution_count": 1,
   "metadata": {},
   "outputs": [
    {
     "name": "stdout",
     "output_type": "stream",
     "text": [
      "고유값: [14.52493781  4.47506219]\n",
      "고유벡터:\n",
      "λ = 14.524937810560441 에 대한 고유벡터: [0.74145253 0.67100532]\n",
      "λ = 4.475062189439559 에 대한 고유벡터: [-0.67100532  0.74145253]\n"
     ]
    }
   ],
   "source": [
    "import numpy as np\n",
    "\n",
    "# 주어진 행렬\n",
    "A = np.array([[10, 5], [5, 9]])\n",
    "\n",
    "# 고유값 문제를 풀기 위한 특성 방정식 구현\n",
    "def characteristic_eqn(A, eigenvalue):\n",
    "    I = np.eye(A.shape[0])  # 단위 행렬\n",
    "    return np.linalg.det(A - eigenvalue * I)  # det(A - λI)\n",
    "\n",
    "# 특성 방정식을 푸는 함수\n",
    "def solve_characteristic_eqn(A):\n",
    "    eigenvalues = np.roots([1, -np.trace(A), np.linalg.det(A)])  # 다항식의 근 찾기\n",
    "    return eigenvalues\n",
    "\n",
    "# 고유값 문제를 풀어서 고유값을 찾음\n",
    "eigenvalues = solve_characteristic_eqn(A)\n",
    "print(\"고유값:\", eigenvalues)\n",
    "\n",
    "# 고유값에 대응하는 고유벡터를 찾는 함수\n",
    "def find_eigenvectors(A):\n",
    "    eigenvalues, eigenvectors = np.linalg.eig(A)\n",
    "    return eigenvectors\n",
    "\n",
    "# 고유값에 대응하는 고유벡터를 찾음\n",
    "eigenvectors = find_eigenvectors(A)\n",
    "print(\"고유벡터:\")\n",
    "for i, vec in enumerate(eigenvectors.T):\n",
    "    print(f\"λ = {eigenvalues[i]} 에 대한 고유벡터:\", vec)\n"
   ]
  }
 ],
 "metadata": {
  "kernelspec": {
   "display_name": "base",
   "language": "python",
   "name": "python3"
  },
  "language_info": {
   "codemirror_mode": {
    "name": "ipython",
    "version": 3
   },
   "file_extension": ".py",
   "mimetype": "text/x-python",
   "name": "python",
   "nbconvert_exporter": "python",
   "pygments_lexer": "ipython3",
   "version": "3.11.5"
  }
 },
 "nbformat": 4,
 "nbformat_minor": 2
}
