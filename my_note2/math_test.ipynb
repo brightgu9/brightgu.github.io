{
 "cells": [
  {
   "cell_type": "code",
   "execution_count": 1,
   "metadata": {},
   "outputs": [
    {
     "name": "stdout",
     "output_type": "stream",
     "text": [
      "고유값: [14.52493781  4.47506219]\n",
      "고유벡터:\n",
      "λ = 14.524937810560441 에 대한 고유벡터: [0.74145253 0.67100532]\n",
      "λ = 4.475062189439559 에 대한 고유벡터: [-0.67100532  0.74145253]\n"
     ]
    }
   ],
   "source": [
    "import numpy as np\n",
    "\n",
    "# 주어진 행렬\n",
    "A = np.array([[10, 5], [5, 9]])\n",
    "\n",
    "# 고유값 문제를 풀기 위한 특성 방정식 구현\n",
    "def characteristic_eqn(A, eigenvalue):\n",
    "    I = np.eye(A.shape[0])  # 단위 행렬\n",
    "    return np.linalg.det(A - eigenvalue * I)  # det(A - λI)\n",
    "\n",
    "# 특성 방정식을 푸는 함수\n",
    "def solve_characteristic_eqn(A):\n",
    "    eigenvalues = np.roots([1, -np.trace(A), np.linalg.det(A)])  # 다항식의 근 찾기\n",
    "    return eigenvalues\n",
    "\n",
    "# 고유값 문제를 풀어서 고유값을 찾음\n",
    "eigenvalues = solve_characteristic_eqn(A)\n",
    "print(\"고유값:\", eigenvalues)\n",
    "\n",
    "# 고유값에 대응하는 고유벡터를 찾는 함수\n",
    "def find_eigenvectors(A):\n",
    "    eigenvalues, eigenvectors = np.linalg.eig(A)\n",
    "    return eigenvectors\n",
    "\n",
    "# 고유값에 대응하는 고유벡터를 찾음\n",
    "eigenvectors = find_eigenvectors(A)\n",
    "print(\"고유벡터:\")\n",
    "for i, vec in enumerate(eigenvectors.T):\n",
    "    print(f\"λ = {eigenvalues[i]} 에 대한 고유벡터:\", vec)\n"
   ]
  },
  {
   "cell_type": "code",
   "execution_count": 10,
   "metadata": {},
   "outputs": [
    {
     "name": "stdout",
     "output_type": "stream",
     "text": [
      "고유값: [14.73627305  3.52403711  6.73968984]\n",
      "고유벡터:\n",
      "λ = 14.7362730458557 에 대한 고유벡터: [-0.71716055 -0.67933364  0.15552024]\n",
      "λ = 3.5240371146541385 에 대한 고유벡터: [ 0.51488378 -0.66687365 -0.53867823]\n",
      "λ = 6.739689839490159 에 대한 고유벡터: [ 0.46965459 -0.30624393  0.82803335]\n"
     ]
    }
   ],
   "source": [
    "import numpy as np\n",
    "\n",
    "# 고유값 문제를 풀어서 고유값과 고유벡터를 찾는 함수\n",
    "def find_eigen(A):\n",
    "    eigenvalues, eigenvectors = np.linalg.eig(A)\n",
    "    return eigenvalues, eigenvectors\n",
    "\n",
    "# 예시로 주어진 행렬\n",
    "A = np.array([[10, 5, 0],\n",
    "              [5, 9, -2],\n",
    "              [0, -2, 6]])\n",
    "\n",
    "# 고유값과 고유벡터를 찾음\n",
    "eigenvalues, eigenvectors = find_eigen(A)\n",
    "\n",
    "print(\"고유값:\", eigenvalues)\n",
    "print(\"고유벡터:\")\n",
    "for i in range(len(eigenvalues)):\n",
    "    print(f\"λ = {eigenvalues[i]} 에 대한 고유벡터:\", eigenvectors[:, i])\n"
   ]
  },
  {
   "cell_type": "code",
   "execution_count": 11,
   "metadata": {},
   "outputs": [
    {
     "name": "stdout",
     "output_type": "stream",
     "text": [
      "고유값: [30.72799874+0.j         -2.86399937+5.50521987j -2.86399937-5.50521987j]\n",
      "고유벡터:\n",
      "λ = (30.727998744298645+0j) 에 대한 고유벡터: [-0. -0.  1.]\n",
      "λ = (-2.8639993721493218+5.50521987013064j) 에 대한 고유벡터: [0. 0. 1.]\n",
      "λ = (-2.8639993721493218-5.50521987013064j) 에 대한 고유벡터: [0. 0. 1.]\n"
     ]
    },
    {
     "name": "stderr",
     "output_type": "stream",
     "text": [
      "C:\\Users\\brigh\\AppData\\Local\\Temp\\ipykernel_12176\\1882843826.py:26: ComplexWarning: Casting complex values to real discards the imaginary part\n",
      "  eigenvector[i] = (shifted_matrix[i, -1] - np.dot(shifted_matrix[i, i + 1:], eigenvector[i + 1:])) / shifted_matrix[i, i]\n"
     ]
    }
   ],
   "source": [
    "import numpy as np\n",
    "\n",
    "# 행렬 A의 고유값을 구하는 함수\n",
    "def find_eigenvalues(A):\n",
    "    # A의 크기\n",
    "    n = A.shape[0]\n",
    "    \n",
    "    # 특성 다항식의 계수를 저장할 배열 초기화\n",
    "    coeffs = [1, -np.trace(A)]\n",
    "    for k in range(2, n + 1):\n",
    "        coeff_k = np.sum(np.linalg.eigvals(A) ** k)\n",
    "        coeffs.append(-coeff_k / k)\n",
    "    \n",
    "    # 특성 다항식의 근을 구함\n",
    "    eigenvalues = np.roots(coeffs)\n",
    "    return eigenvalues\n",
    "\n",
    "# 주어진 행렬 A와 고유값 lambda에 대해 (A - lambda*I)x = 0을 만족하는 고유벡터 x를 찾는 함수\n",
    "def find_eigenvector(A, eigenvalue):\n",
    "    # (A - lambda*I)x = 0에서 x를 구하기 위해 (A - lambda*I)를 계산\n",
    "    shifted_matrix = A - eigenvalue * np.eye(A.shape[0])\n",
    "    # 가우스 소거법을 사용하여 선형 연립방정식을 풂\n",
    "    eigenvector = np.zeros(A.shape[0])\n",
    "    eigenvector[-1] = 1  # 마지막 원소를 1로 설정하여 자유변수 설정\n",
    "    for i in range(A.shape[0] - 2, -1, -1):\n",
    "        eigenvector[i] = (shifted_matrix[i, -1] - np.dot(shifted_matrix[i, i + 1:], eigenvector[i + 1:])) / shifted_matrix[i, i]\n",
    "    return eigenvector / np.linalg.norm(eigenvector)  # 벡터의 크기를 1로 정규화하여 고유벡터 반환\n",
    "\n",
    "# 주어진 행렬 A의 고유값과 고유벡터를 찾는 함수\n",
    "def find_eigen(A):\n",
    "    eigenvalues = find_eigenvalues(A)\n",
    "    eigenvectors = []\n",
    "    for eigenvalue in eigenvalues:\n",
    "        eigenvector = find_eigenvector(A, eigenvalue)\n",
    "        eigenvectors.append(eigenvector)\n",
    "    return eigenvalues, np.array(eigenvectors).T\n",
    "\n",
    "# 예시로 주어진 행렬\n",
    "A = np.array([[10, 5, 0],\n",
    "              [5, 9, -2],\n",
    "              [0, -2, 6]])\n",
    "\n",
    "# 고유값과 고유벡터를 찾음\n",
    "eigenvalues, eigenvectors = find_eigen(A)\n",
    "\n",
    "print(\"고유값:\", eigenvalues)\n",
    "print(\"고유벡터:\")\n",
    "for i, vec in enumerate(eigenvectors.T):\n",
    "    print(f\"λ = {eigenvalues[i]} 에 대한 고유벡터:\", vec)\n"
   ]
  },
  {
   "cell_type": "code",
   "execution_count": 12,
   "metadata": {},
   "outputs": [
    {
     "name": "stdout",
     "output_type": "stream",
     "text": [
      "사후 확률 P(A|B): 0.75\n"
     ]
    }
   ],
   "source": [
    "def bayes_theorem(prior_A, prob_B_given_A, prob_B):\n",
    "    \"\"\"\n",
    "    베이즈 정리를 사용하여 사후 확률을 계산하는 함수\n",
    "\n",
    "    :param prior_A: 사전 확률 P(A)\n",
    "    :param prob_B_given_A: 사건 A가 주어졌을 때의 사건 B의 조건부 확률 P(B|A)\n",
    "    :param prob_B: 사건 B의 확률 P(B)\n",
    "    :return: 사후 확률 P(A|B)\n",
    "    \"\"\"\n",
    "    return (prob_B_given_A * prior_A) / prob_B\n",
    "\n",
    "# 예시: 쿠키 문제\n",
    "# 사건 A: 바구니 1에서 쿠키를 뽑았을 때 초콜릿 쿠키를 뽑을 확률\n",
    "# 사건 B: 초콜릿 쿠키를 뽑았을 때 바구니 1에서 뽑았을 확률\n",
    "\n",
    "# 사전 확률 P(A): 초콜릿 쿠키가 있는 바구니 1의 비율\n",
    "prior_A = 0.5\n",
    "\n",
    "# 사건 A가 주어졌을 때의 사건 B의 조건부 확률 P(B|A): 바구니 1에서 초콜릿 쿠키를 뽑을 확률\n",
    "prob_B_given_A = 0.75\n",
    "\n",
    "# 사건 B의 확률 P(B): 초콜릿 쿠키를 뽑을 확률\n",
    "prob_B = (prior_A * prob_B_given_A) + ((1 - prior_A) * (1 - prob_B_given_A))\n",
    "\n",
    "# 사후 확률 P(A|B): 초콜릿 쿠키를 뽑았을 때 그것이 바구니 1에서 뽑았을 확률\n",
    "posterior_A = bayes_theorem(prior_A, prob_B_given_A, prob_B)\n",
    "print(\"사후 확률 P(A|B):\", posterior_A)\n"
   ]
  },
  {
   "cell_type": "code",
   "execution_count": 13,
   "metadata": {},
   "outputs": [
    {
     "name": "stdout",
     "output_type": "stream",
     "text": [
      "사후 확률 P(A|B): 0.6666666666666666\n"
     ]
    }
   ],
   "source": [
    "def bayes_theorem(prior_A, prob_B_given_A, prob_B):\n",
    "    \"\"\"\n",
    "    베이즈 정리를 사용하여 사후 확률을 계산하는 함수\n",
    "\n",
    "    :param prior_A: 사전 확률 P(A)\n",
    "    :param prob_B_given_A: 사건 A가 주어졌을 때의 사건 B의 조건부 확률 P(B|A)\n",
    "    :param prob_B: 사건 B의 확률 P(B)\n",
    "    :return: 사후 확률 P(A|B)\n",
    "    \"\"\"\n",
    "    return (prob_B_given_A * prior_A) / prob_B\n",
    "\n",
    "# 바구니 1에 있는 쿠키의 개수\n",
    "num_cookies_basket1 = 30\n",
    "# 바구니 1에 있는 초콜릿 쿠키의 개수\n",
    "num_chocolate_cookies_basket1 = 10\n",
    "\n",
    "# 바구니 2에 있는 쿠키의 개수\n",
    "num_cookies_basket2 = 20\n",
    "# 바구니 2에 있는 초콜릿 쿠키의 개수\n",
    "num_chocolate_cookies_basket2 = 5\n",
    "\n",
    "# 사전 확률 P(A): 초콜릿 쿠키가 있는 바구니 1의 비율\n",
    "prior_A = num_cookies_basket1 / (num_cookies_basket1 + num_cookies_basket2)\n",
    "\n",
    "# 사건 A가 주어졌을 때의 사건 B의 조건부 확률 P(B|A): 바구니 1에서 초콜릿 쿠키를 뽑을 확률\n",
    "prob_B_given_A = num_chocolate_cookies_basket1 / num_cookies_basket1\n",
    "\n",
    "# 사건 B의 확률 P(B): 초콜릿 쿠키를 뽑을 확률\n",
    "prob_B = (prior_A * prob_B_given_A) + ((1 - prior_A) * (num_chocolate_cookies_basket2 / num_cookies_basket2))\n",
    "\n",
    "# 사후 확률 P(A|B): 초콜릿 쿠키를 뽑았을 때 그것이 바구니 1에서 뽑았을 확률\n",
    "posterior_A = bayes_theorem(prior_A, prob_B_given_A, prob_B)\n",
    "print(\"사후 확률 P(A|B):\", posterior_A)\n"
   ]
  },
  {
   "cell_type": "code",
   "execution_count": 14,
   "metadata": {},
   "outputs": [
    {
     "name": "stdout",
     "output_type": "stream",
     "text": [
      "기울기 (가중치): [[2.96846751]]\n",
      "절편: [4.22215108]\n"
     ]
    },
    {
     "data": {
      "image/png": "[encoded data removed]",
      "text/plain": [
       "<Figure size 640x480 with 1 Axes>"
      ]
     },
     "metadata": {},
     "output_type": "display_data"
    }
   ],
   "source": [
    "import numpy as np\n",
    "from sklearn.linear_model import LinearRegression\n",
    "import matplotlib.pyplot as plt\n",
    "\n",
    "# 임의의 데이터 생성\n",
    "np.random.seed(0)\n",
    "X = 2 * np.random.rand(100, 1)\n",
    "y = 4 + 3 * X + np.random.randn(100, 1)\n",
    "\n",
    "# 선형 회귀 모델 정의 및 훈련\n",
    "model = LinearRegression()\n",
    "model.fit(X, y)\n",
    "\n",
    "# 훈련된 모델의 기울기와 절편 출력\n",
    "print(\"기울기 (가중치):\", model.coef_)\n",
    "print(\"절편:\", model.intercept_)\n",
    "\n",
    "# 데이터와 훈련된 선형 회귀 모델의 그래프 그리기\n",
    "plt.scatter(X, y, color='blue')\n",
    "plt.plot(X, model.predict(X), color='red')\n",
    "plt.xlabel('X')\n",
    "plt.ylabel('y')\n",
    "plt.title('Simple Linear Regression')\n",
    "plt.show()\n"
   ]
  }
 ],
 "metadata": {
  "kernelspec": {
   "display_name": "base",
   "language": "python",
   "name": "python3"
  },
  "language_info": {
   "codemirror_mode": {
    "name": "ipython",
    "version": 3
   },
   "file_extension": ".py",
   "mimetype": "text/x-python",
   "name": "python",
   "nbconvert_exporter": "python",
   "pygments_lexer": "ipython3",
   "version": "3.11.5"
  }
 },
 "nbformat": 4,
 "nbformat_minor": 2
}
