{
 "cells": [
  {
   "cell_type": "code",
   "execution_count": null,
   "metadata": {},
   "outputs": [],
   "source": [
    "pip install tensorflow"
   ]
  },
  {
   "cell_type": "code",
   "execution_count": 8,
   "metadata": {},
   "outputs": [],
   "source": [
    "from tensorflow import keras\n",
    "\n",
    "# 옵티마이저 설정\n",
    "# optimizer = keras.optimizers.SGD(lr=0.01, decay=1e-4)\n",
    "optimizer = keras.optimizers.SGD(learning_rate=0.01, decay=1e-4)\n",
    "\n",
    "# 모델 생성\n",
    "model = keras.Sequential([\n",
    "    # 여기에 모델 레이어를 추가하세요\n",
    "])\n",
    "\n",
    "# 모델 컴파일\n",
    "model.compile(optimizer=optimizer,\n",
    "              loss='sparse_categorical_crossentropy',\n",
    "              metrics=['accuracy'])\n",
    "\n",
    "# 모델 훈련\n",
    "# model.fit(train_images, train_labels, epochs=5, batch_size=32)\n"
   ]
  },
  {
   "cell_type": "code",
   "execution_count": 10,
   "metadata": {},
   "outputs": [],
   "source": [
    "def exponential_decay(lr0, s): \n",
    "    def exponential_decay_fn(epoch):\n",
    "        return lr0 * 0.1 ** (epoch / s)\n",
    "    return exponential_decay_fn\n",
    "exponential_decay_fn = exponential_decay(lr0=0.01, s=20)\n"
   ]
  },
  {
   "cell_type": "code",
   "execution_count": 11,
   "metadata": {},
   "outputs": [],
   "source": [
    "def piecewise_constant_fn(epoch):\n",
    "    if epoch < 5:\n",
    "        return 0.01\n",
    "    elif epoch < 15:\n",
    "        return 0.005\n",
    "    else: return 0.001\n",
    "lr_scheduler = keras.callbacks.LearningRateScheduler(piecewise_constant_fn)"
   ]
  },
  {
   "cell_type": "markdown",
   "metadata": {},
   "source": [
    "1. y=-0.1x^4+2x^2+x+2 의 최대값을 제시된 방법으로 구하시오"
   ]
  },
  {
   "cell_type": "markdown",
   "metadata": {},
   "source": [
    "1) 미분법을 이용"
   ]
  },
  {
   "cell_type": "code",
   "execution_count": 3,
   "metadata": {},
   "outputs": [
    {
     "name": "stdout",
     "output_type": "stream",
     "text": [
      "최대값을 가지는 x: 3.2805585009159755\n",
      "최대값: 15.222484335028529\n"
     ]
    }
   ],
   "source": [
    "from scipy.optimize import minimize_scalar\n",
    "import numpy as np\n",
    "\n",
    "# 4차 함수 정의\n",
    "def f(x):\n",
    "    return -0.1 * x**4 + 2 * x**2 + x + 2\n",
    "\n",
    "# 함수 f(x)를 최대화하는 x를 찾는 함수 정의\n",
    "def find_max():\n",
    "    # 함수 f(x)의 음수를 최소화하는 x를 찾음 (최대값을 찾기 위해)\n",
    "    result = minimize_scalar(lambda x: -f(x), method='bounded', bounds=(-10, 10))\n",
    "    if result.success:\n",
    "        return result.x, f(result.x)  # 최대값을 가진 x와 해당 위치에서의 함수 값 반환\n",
    "    else:\n",
    "        return None, None  # 해를 찾을 수 없는 경우 None 반환\n",
    "\n",
    "# 최대값 찾기\n",
    "max_x, max_val = find_max()\n",
    "\n",
    "# 결과 출력\n",
    "if max_x is not None:\n",
    "    print(\"최대값을 가지는 x:\", max_x)\n",
    "    print(\"최대값:\", max_val)\n",
    "else:\n",
    "    print(\"최대값을 찾을 수 없습니다.\")\n"
   ]
  },
  {
   "cell_type": "markdown",
   "metadata": {},
   "source": [
    "2) 뉴톤법을 이용 초기값 (x=-5)"
   ]
  },
  {
   "cell_type": "code",
   "execution_count": 5,
   "metadata": {},
   "outputs": [
    {
     "name": "stdout",
     "output_type": "stream",
     "text": [
      "뉴턴-랩슨 방법을 이용한 최대값의 x: -4.33096985608591\n",
      "최대값: 0\n"
     ]
    }
   ],
   "source": [
    "import sympy as sp\n",
    "\n",
    "# 초기값 설정\n",
    "x = -5\n",
    "\n",
    "# 함수 정의\n",
    "f = -0.1 * sp.Symbol('x')**4 + 2 * sp.Symbol('x')**2 + sp.Symbol('x') + 2\n",
    "\n",
    "# 함수 f(x)를 미분하여 f'(x)를 구함\n",
    "f_prime = sp.diff(f, sp.Symbol('x'))\n",
    "\n",
    "# 뉴턴-랩슨 반복\n",
    "for _ in range(10):  # 일정 횟수 반복\n",
    "    # 현재 위치에서의 함수값과 미분값 계산\n",
    "    fx = f.subs(sp.Symbol('x'), x)\n",
    "    fx_prime = f_prime.subs(sp.Symbol('x'), x)\n",
    "    \n",
    "    # 다음 위치 계산\n",
    "    x = x - fx / fx_prime\n",
    "    \n",
    "# 최대값에서의 x값과 최대값 계산\n",
    "max_x = x\n",
    "max_val = f.subs(sp.Symbol('x'), max_x)\n",
    "\n",
    "# 결과 출력\n",
    "print(\"뉴턴-랩슨 방법을 이용한 최대값의 x:\", max_x)\n",
    "print(\"최대값:\", max_val)\n"
   ]
  },
  {
   "cell_type": "markdown",
   "metadata": {},
   "source": [
    "3) 경사하강법 (초기값 x=-5, 학습율 : 최대값 찾을때까지)"
   ]
  },
  {
   "cell_type": "code",
   "execution_count": 7,
   "metadata": {},
   "outputs": [
    {
     "name": "stdout",
     "output_type": "stream",
     "text": [
      "경사 하강법을 이용한 최대값의 x: -3.02896613891181\n",
      "최대값: 8.90291126649044\n"
     ]
    }
   ],
   "source": [
    "import sympy as sp\n",
    "\n",
    "# 초기값 설정\n",
    "x = -5\n",
    "learning_rate = 0.01  # 학습율\n",
    "\n",
    "# 함수 정의\n",
    "f = -0.1 * sp.Symbol('x')**4 + 2 * sp.Symbol('x')**2 + sp.Symbol('x') + 2\n",
    "\n",
    "# 함수를 최대화하는 방향으로 경사 상승법 반복\n",
    "for _ in range(1000):  # 일정 횟수 반복 또는 수렴할 때까지\n",
    "    # 현재 위치에서의 함수값과 그래디언트 계산\n",
    "    fx = f.subs(sp.Symbol('x'), x)\n",
    "    gradient = sp.diff(f, sp.Symbol('x')).subs(sp.Symbol('x'), x)\n",
    "    \n",
    "    # 경사 상승법 업데이트\n",
    "    x = x + learning_rate * gradient\n",
    "    \n",
    "# 최대값 계산\n",
    "max_val = f.subs(sp.Symbol('x'), x)\n",
    "\n",
    "# 결과 출력\n",
    "print(\"경사 하강법을 이용한 최대값의 x:\", x)\n",
    "print(\"최대값:\", max_val)\n"
   ]
  },
  {
   "cell_type": "markdown",
   "metadata": {},
   "source": [
    "4) 유전알고리즘"
   ]
  },
  {
   "cell_type": "code",
   "execution_count": 6,
   "metadata": {},
   "outputs": [
    {
     "name": "stdout",
     "output_type": "stream",
     "text": [
      "최대값: 15.221518475964455\n",
      "해: 3.2952474741190385\n"
     ]
    }
   ],
   "source": [
    "import numpy as np\n",
    "import random\n",
    "\n",
    "# 주어진 함수 정의\n",
    "def objective_function(x):\n",
    "    return -0.1*x**4 + 2*x**2 + x + 2\n",
    "\n",
    "# 후보해 생성\n",
    "def initialize_population(num_candidates):\n",
    "    population = []\n",
    "    for _ in range(num_candidates):\n",
    "        candidate = np.random.uniform(-10, 10)  # 임의의 범위에서 후보해 생성\n",
    "        population.append(candidate)\n",
    "    return population\n",
    "\n",
    "# 선택 연산\n",
    "def selection(population):\n",
    "    fitness_scores = [objective_function(candidate) for candidate in population]\n",
    "    max_fitness_index = np.argmax(fitness_scores)\n",
    "    return population[max_fitness_index]\n",
    "\n",
    "# 교차 연산\n",
    "def crossover(parent1, parent2):\n",
    "    crossover_point = random.uniform(0, 1)  # 교차점 비율을 0에서 1 사이에서 무작위로 선택\n",
    "    child = crossover_point * parent1 + (1 - crossover_point) * parent2  # 1점 교차\n",
    "    return child\n",
    "\n",
    "# 돌연변이 연산\n",
    "def mutation(candidate):\n",
    "    mutation_point = random.uniform(0, 1)  # 돌연변이 발생할 위치 선택\n",
    "    mutation_amount = random.uniform(-1, 1)  # 돌연변이 양 선택\n",
    "    candidate += mutation_amount * mutation_point\n",
    "    return candidate\n",
    "\n",
    "# 유전 알고리즘 실행\n",
    "def genetic_algorithm(num_generations):\n",
    "    num_candidates = 4\n",
    "    population = initialize_population(num_candidates)\n",
    "    \n",
    "    for generation in range(num_generations):\n",
    "        parent1 = selection(population)\n",
    "        parent2 = selection(population)\n",
    "        child = crossover(parent1, parent2)\n",
    "        \n",
    "        if random.random() < 0.1:  # 돌연변이 확률 0.1\n",
    "            child = mutation(child)\n",
    "        \n",
    "        population.append(child)\n",
    "    \n",
    "    best_solution = selection(population)\n",
    "    return best_solution\n",
    "\n",
    "# 유전 알고리즘 실행 및 결과 출력\n",
    "best_solution = genetic_algorithm(num_generations=100)\n",
    "print(\"최대값:\", objective_function(best_solution))\n",
    "print(\"해:\", best_solution)\n"
   ]
  },
  {
   "cell_type": "markdown",
   "metadata": {},
   "source": [
    "3. 2개의 통신사"
   ]
  },
  {
   "cell_type": "code",
   "execution_count": 58,
   "metadata": {},
   "outputs": [
    {
     "name": "stdout",
     "output_type": "stream",
     "text": [
      "1번째 예측 - 다음 시점에서 A통신사에 가입할 확률: [0.6 0.4]\n",
      "2번째 예측 - 다음 시점에서 A통신사에 가입할 확률: [0.44 0.56]\n",
      "3번째 예측 - 다음 시점에서 A통신사에 가입할 확률: [0.376 0.624]\n",
      "1번째 예측 - 다음 시점에서 B통신사에 가입할 확률: [0.2 0.8]\n",
      "2번째 예측 - 다음 시점에서 B통신사에 가입할 확률: [0.28 0.72]\n",
      "3번째 예측 - 다음 시점에서 B통신사에 가입할 확률: [0.312 0.688]\n"
     ]
    }
   ],
   "source": [
    "import numpy as np\n",
    "\n",
    "# 전이 확률 행렬\n",
    "transition_matrix = np.array([[0.6, 0.4], [0.2, 0.8]])\n",
    "\n",
    "# 현재 시점에서 각 통신사에 가입한 상태 벡터\n",
    "current_state_A = np.array([1, 0])  # A통신사에 가입\n",
    "current_state_B = np.array([0, 1])  # B통신사에 가입\n",
    "\n",
    "def predict_next_state(current_state, transition_matrix):\n",
    "    # 다음 시점에서 각 통신사에 가입할 확률 계산\n",
    "    next_state = np.dot(current_state, transition_matrix)\n",
    "    return next_state\n",
    "\n",
    "# 예측을 3번 반복\n",
    "for i in range(3):\n",
    "    # A통신사에 가입한 상태에서 다음 시점에서 각 통신사에 가입할 확률\n",
    "    next_state_prob_A = predict_next_state(current_state_A, transition_matrix)\n",
    "    print(f\"{i+1}번째 예측 - 다음 시점에서 A통신사에 가입할 확률:\", next_state_prob_A)\n",
    "    current_state_A = next_state_prob_A\n",
    "    \n",
    "for i in range(3):\n",
    "\n",
    "# B통신사에 가입한 상태에서 다음 시점에서 각 통신사에 가입할 확률\n",
    "    next_state_prob_B = predict_next_state(current_state_B, transition_matrix)\n",
    "    print(f\"{i+1}번째 예측 - 다음 시점에서 B통신사에 가입할 확률:\", next_state_prob_B)\n",
    "\n",
    "    # 다음 시점 예측을 현재 상태로 업데이트\n",
    "    \n",
    "    current_state_B = next_state_prob_B\n"
   ]
  },
  {
   "cell_type": "code",
   "execution_count": 59,
   "metadata": {},
   "outputs": [
    {
     "name": "stdout",
     "output_type": "stream",
     "text": [
      "A통신사의 장기 시장점유율: 0.3333333333333333\n",
      "B통신사의 장기 시장점유율: 0.6666666666666667\n"
     ]
    }
   ],
   "source": [
    "import numpy as np\n",
    "\n",
    "# 전이 확률 행렬\n",
    "transition_matrix = np.array([[0.6, 0.4],\n",
    "                               [0.2, 0.8]])\n",
    "\n",
    "# 전이 확률 행렬의 전치행렬\n",
    "transition_matrix_transpose = transition_matrix.T\n",
    "\n",
    "# 고유값과 고유벡터 계산\n",
    "eigenvalues, eigenvectors = np.linalg.eig(transition_matrix_transpose)\n",
    "\n",
    "# 안정 상태 분포는 고유값이 1인 고유벡터\n",
    "stable_distribution = eigenvectors[:, np.argmax(np.abs(eigenvalues))].real\n",
    "stable_distribution /= stable_distribution.sum()\n",
    "\n",
    "print(\"A통신사의 장기 시장점유율:\", stable_distribution[0])\n",
    "print(\"B통신사의 장기 시장점유율:\", stable_distribution[1])\n"
   ]
  }
 ],
 "metadata": {
  "kernelspec": {
   "display_name": "base",
   "language": "python",
   "name": "python3"
  },
  "language_info": {
   "codemirror_mode": {
    "name": "ipython",
    "version": 3
   },
   "file_extension": ".py",
   "mimetype": "text/x-python",
   "name": "python",
   "nbconvert_exporter": "python",
   "pygments_lexer": "ipython3",
   "version": "3.11.5"
  }
 },
 "nbformat": 4,
 "nbformat_minor": 2
}
