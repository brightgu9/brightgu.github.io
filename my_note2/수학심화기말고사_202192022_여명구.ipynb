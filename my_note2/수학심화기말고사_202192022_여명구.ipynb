{
 "cells": [
  {
   "cell_type": "markdown",
   "id": "4f18af8a",
   "metadata": {},
   "source": [
    "## <font color='red'> 파일명 : 수학심화기말고사_학번_이름 ! </font>"
   ]
  },
  {
   "cell_type": "markdown",
   "id": "56b27e43",
   "metadata": {},
   "source": [
    "> ### [문제 1] train.csv 데이터를 사용하여 선형회귀모델을 만들고, test.csv를 사용하여 만든 선형회귀모델의 성능을 Mean Square Error로 평가하시오."
   ]
  },
  {
   "cell_type": "markdown",
   "id": "d8119c44",
   "metadata": {},
   "source": [
    "### 1-1. train.csv 데이터를 사용하여, 독립변수를 X, 종속변수를 Y로 하는 선형회귀모델을 만들고, 회귀식을 나타내시오.</b>"
   ]
  },
  {
   "cell_type": "code",
   "execution_count": null,
   "id": "379214b1",
   "metadata": {},
   "outputs": [],
   "source": [
    "from sklearn.linear_model import LinearRegression"
   ]
  },
  {
   "cell_type": "code",
   "execution_count": null,
   "id": "378e13df",
   "metadata": {},
   "outputs": [],
   "source": []
  },
  {
   "cell_type": "markdown",
   "id": "0feeee2b",
   "metadata": {},
   "source": [
    "### 1-2. test.csv 데이터를 사용하여, 1-1에서 만든 선형회귀모델의 성능을 평가하시오. 평가지표는 Mean Square Error를 사용 </b>"
   ]
  },
  {
   "cell_type": "code",
   "execution_count": null,
   "id": "16c224fd",
   "metadata": {},
   "outputs": [],
   "source": [
    "from sklearn.metrics import mean_squared_error"
   ]
  },
  {
   "cell_type": "code",
   "execution_count": null,
   "id": "9ac1c360",
   "metadata": {},
   "outputs": [],
   "source": []
  },
  {
   "cell_type": "markdown",
   "id": "409adf5e",
   "metadata": {},
   "source": [
    "### 1-3. test.csv 데이터와 회귀선을 시각화하여 나타내시오. </b>"
   ]
  },
  {
   "cell_type": "code",
   "execution_count": null,
   "id": "af62f736",
   "metadata": {},
   "outputs": [],
   "source": []
  },
  {
   "cell_type": "markdown",
   "id": "7e1b8794",
   "metadata": {},
   "source": [
    "> ### [문제 2] df 데이터를 가지고, target 값이 0인지 1인지 분류하는 로지스틱 회귀 모델을 만드시오.\n",
    "\n",
    "df 데이터는 3가지 품종(0,1,2)의 붓꽃에 대해 꽃잎과 꽃받침의 길이와 너비를 측정한 데이터이다. <br>\n",
    "품종별로 50개의 샘플(총 150개)이 있으며, 각 샘플은 꽃잎과 꽃받침의 길이와 너비를 나타내는 네 가지 특성으로 구성된다. <br>\n",
    "\n",
    "본 문제에서는 로지스틱 회귀 모델을 사용하여 꽃잎과 꽃받침의 길이, 너비 데이터를 가지고 붓꽃의 품종(0 또는 1)을 예측하고자 한다."
   ]
  },
  {
   "cell_type": "code",
   "execution_count": 206,
   "id": "9d5b4456",
   "metadata": {
    "scrolled": false
   },
   "outputs": [
    {
     "data": {
      "text/html": [
       "<div>\n",
       "<style scoped>\n",
       "    .dataframe tbody tr th:only-of-type {\n",
       "        vertical-align: middle;\n",
       "    }\n",
       "\n",
       "    .dataframe tbody tr th {\n",
       "        vertical-align: top;\n",
       "    }\n",
       "\n",
       "    .dataframe thead th {\n",
       "        text-align: right;\n",
       "    }\n",
       "</style>\n",
       "<table border=\"1\" class=\"dataframe\">\n",
       "  <thead>\n",
       "    <tr style=\"text-align: right;\">\n",
       "      <th></th>\n",
       "      <th>sepal length (cm)</th>\n",
       "      <th>sepal width (cm)</th>\n",
       "      <th>petal length (cm)</th>\n",
       "      <th>petal width (cm)</th>\n",
       "      <th>target</th>\n",
       "    </tr>\n",
       "  </thead>\n",
       "  <tbody>\n",
       "    <tr>\n",
       "      <th>0</th>\n",
       "      <td>5.1</td>\n",
       "      <td>3.5</td>\n",
       "      <td>1.4</td>\n",
       "      <td>0.2</td>\n",
       "      <td>0</td>\n",
       "    </tr>\n",
       "    <tr>\n",
       "      <th>1</th>\n",
       "      <td>4.9</td>\n",
       "      <td>3.0</td>\n",
       "      <td>1.4</td>\n",
       "      <td>0.2</td>\n",
       "      <td>0</td>\n",
       "    </tr>\n",
       "    <tr>\n",
       "      <th>2</th>\n",
       "      <td>4.7</td>\n",
       "      <td>3.2</td>\n",
       "      <td>1.3</td>\n",
       "      <td>0.2</td>\n",
       "      <td>0</td>\n",
       "    </tr>\n",
       "    <tr>\n",
       "      <th>3</th>\n",
       "      <td>4.6</td>\n",
       "      <td>3.1</td>\n",
       "      <td>1.5</td>\n",
       "      <td>0.2</td>\n",
       "      <td>0</td>\n",
       "    </tr>\n",
       "    <tr>\n",
       "      <th>4</th>\n",
       "      <td>5.0</td>\n",
       "      <td>3.6</td>\n",
       "      <td>1.4</td>\n",
       "      <td>0.2</td>\n",
       "      <td>0</td>\n",
       "    </tr>\n",
       "    <tr>\n",
       "      <th>...</th>\n",
       "      <td>...</td>\n",
       "      <td>...</td>\n",
       "      <td>...</td>\n",
       "      <td>...</td>\n",
       "      <td>...</td>\n",
       "    </tr>\n",
       "    <tr>\n",
       "      <th>145</th>\n",
       "      <td>6.7</td>\n",
       "      <td>3.0</td>\n",
       "      <td>5.2</td>\n",
       "      <td>2.3</td>\n",
       "      <td>2</td>\n",
       "    </tr>\n",
       "    <tr>\n",
       "      <th>146</th>\n",
       "      <td>6.3</td>\n",
       "      <td>2.5</td>\n",
       "      <td>5.0</td>\n",
       "      <td>1.9</td>\n",
       "      <td>2</td>\n",
       "    </tr>\n",
       "    <tr>\n",
       "      <th>147</th>\n",
       "      <td>6.5</td>\n",
       "      <td>3.0</td>\n",
       "      <td>5.2</td>\n",
       "      <td>2.0</td>\n",
       "      <td>2</td>\n",
       "    </tr>\n",
       "    <tr>\n",
       "      <th>148</th>\n",
       "      <td>6.2</td>\n",
       "      <td>3.4</td>\n",
       "      <td>5.4</td>\n",
       "      <td>2.3</td>\n",
       "      <td>2</td>\n",
       "    </tr>\n",
       "    <tr>\n",
       "      <th>149</th>\n",
       "      <td>5.9</td>\n",
       "      <td>3.0</td>\n",
       "      <td>5.1</td>\n",
       "      <td>1.8</td>\n",
       "      <td>2</td>\n",
       "    </tr>\n",
       "  </tbody>\n",
       "</table>\n",
       "<p>150 rows × 5 columns</p>\n",
       "</div>"
      ],
      "text/plain": [
       "     sepal length (cm)  sepal width (cm)  petal length (cm)  petal width (cm)  \\\n",
       "0                  5.1               3.5                1.4               0.2   \n",
       "1                  4.9               3.0                1.4               0.2   \n",
       "2                  4.7               3.2                1.3               0.2   \n",
       "3                  4.6               3.1                1.5               0.2   \n",
       "4                  5.0               3.6                1.4               0.2   \n",
       "..                 ...               ...                ...               ...   \n",
       "145                6.7               3.0                5.2               2.3   \n",
       "146                6.3               2.5                5.0               1.9   \n",
       "147                6.5               3.0                5.2               2.0   \n",
       "148                6.2               3.4                5.4               2.3   \n",
       "149                5.9               3.0                5.1               1.8   \n",
       "\n",
       "     target  \n",
       "0         0  \n",
       "1         0  \n",
       "2         0  \n",
       "3         0  \n",
       "4         0  \n",
       "..      ...  \n",
       "145       2  \n",
       "146       2  \n",
       "147       2  \n",
       "148       2  \n",
       "149       2  \n",
       "\n",
       "[150 rows x 5 columns]"
      ]
     },
     "execution_count": 206,
     "metadata": {},
     "output_type": "execute_result"
    }
   ],
   "source": [
    "from sklearn.datasets import load_iris\n",
    "\n",
    "iris = load_iris()\n",
    "df = pd.DataFrame(data=iris.data, columns=iris.feature_names)\n",
    "df['target'] = iris.target\n",
    "df"
   ]
  },
  {
   "cell_type": "markdown",
   "id": "e9aa129e",
   "metadata": {},
   "source": [
    "### 2-1. target 값을 0과 1로만 갖도록(target 값이 2인 데이터를 제거) df 데이터를 수정하시오."
   ]
  },
  {
   "cell_type": "code",
   "execution_count": null,
   "id": "36267ba6",
   "metadata": {},
   "outputs": [],
   "source": []
  },
  {
   "cell_type": "markdown",
   "id": "62fde0b4",
   "metadata": {},
   "source": [
    "### 2-2. 종속변수를 target, 독립변수를 나머지 변수들로 갖도록 하고, train:test 데이터의 비율을 8:2로 분할한 뒤, train 데이터를 사용하여 로지스틱 회귀 모델을 만드시오. </b>"
   ]
  },
  {
   "cell_type": "code",
   "execution_count": null,
   "id": "baa34ef0",
   "metadata": {},
   "outputs": [],
   "source": [
    "from sklearn.model_selection import train_test_split\n",
    "from sklearn.linear_model import LogisticRegression"
   ]
  },
  {
   "cell_type": "code",
   "execution_count": null,
   "id": "deec1306",
   "metadata": {},
   "outputs": [],
   "source": []
  },
  {
   "cell_type": "markdown",
   "id": "b2bd233c",
   "metadata": {},
   "source": [
    "### 2-3. test 데이터를 사용하여 2-2에서 만든 회귀 모델의 성능을 평가하시오. 평가지표는 accuracy를 사용 </b>"
   ]
  },
  {
   "cell_type": "code",
   "execution_count": null,
   "id": "b20266ad",
   "metadata": {},
   "outputs": [],
   "source": [
    "from sklearn.metrics import accuracy_score"
   ]
  },
  {
   "cell_type": "code",
   "execution_count": null,
   "id": "890be17b",
   "metadata": {},
   "outputs": [],
   "source": []
  },
  {
   "cell_type": "markdown",
   "id": "cd6c70ff",
   "metadata": {},
   "source": [
    "### 2-4. 2-2에서 만든 회귀 모델을 가지고, 아래 표과 같은 특성을 갖는 붓꽃의 품종(0 or 1)을 예측하시오. </b><br>\n",
    "\n",
    "<table>\n",
    "    <tr>\n",
    "        <td>sepal length (cm)</td>\n",
    "        <td>5.0</td>\n",
    "    </tr>\n",
    "    <tr>\n",
    "        <td>sepal width (cm)</td>\n",
    "        <td>2.0</td>\n",
    "    </tr>\n",
    "    <tr>\n",
    "        <td>petal length (cm)</td>\n",
    "        <td>3.5</td>\n",
    "    </tr>\n",
    "    <tr>\n",
    "        <td>petal width (cm)</td>\n",
    "        <td>1.0</td>\n",
    "    </tr>\n",
    "</table>"
   ]
  },
  {
   "cell_type": "code",
   "execution_count": null,
   "id": "89565923",
   "metadata": {},
   "outputs": [],
   "source": []
  },
  {
   "cell_type": "markdown",
   "id": "497e1fc2",
   "metadata": {},
   "source": [
    "> ### [문제 3] sale.csv 데이터와 나이브베이즈 이론을 사용하여, 아래 표와 같은 사람의 물건구매여부(Yes or No)를 예측하시오.\n",
    "\n",
    "<br>\n",
    "<center></center>\n",
    "<table>\n",
    "    <tr>\n",
    "        <td>나이</td>\n",
    "        <td>30대</td>\n",
    "    </tr>\n",
    "    <tr>\n",
    "        <td>소득</td>\n",
    "        <td>중</td>\n",
    "    </tr>\n",
    "    <tr>\n",
    "        <td>기혼여부</td>\n",
    "        <td>O</td>\n",
    "    </tr>\n",
    "</table>"
   ]
  },
  {
   "cell_type": "code",
   "execution_count": null,
   "id": "2ccead8d",
   "metadata": {},
   "outputs": [],
   "source": [
    "from sklearn.naive_bayes import BernoulliNB"
   ]
  },
  {
   "cell_type": "code",
   "execution_count": null,
   "id": "9c904cc2",
   "metadata": {},
   "outputs": [],
   "source": []
  },
  {
   "cell_type": "markdown",
   "id": "38c86d98",
   "metadata": {},
   "source": [
    "> ### [문제 4] 아래의 표는 변수 3개, 관측치 5개로 구성된 데이터 X이다. 아래의 데이터를 가지고 주성분이 1일 때, 주성분 벡터를 구하여라. \n",
    "\n",
    "|구분|n1|n2|n3|n4|n5|\n",
    "|---|--|--|--|--|--|\n",
    "|<b>P1</b>|0.2|0.45|0.33|0.54|0.77|\n",
    "|<b>P2</b>|5.6|5.89|6.37|7.9|7.87|\n",
    "|<b>P3</b>|3.56|2.4|1.95|1.32|0.98|"
   ]
  },
  {
   "cell_type": "code",
   "execution_count": 80,
   "id": "0bf3e8b0",
   "metadata": {},
   "outputs": [],
   "source": [
    "import numpy as np\n",
    "\n",
    "X = np.array([\n",
    "    [0.2, 0.45, 0.33, 0.54, 0.77],\n",
    "    [5.6, 5.89, 6.37, 7.9, 7.87],\n",
    "    [3.56, 2.4, 1.95, 1.32, 0.98]\n",
    "])"
   ]
  },
  {
   "cell_type": "markdown",
   "id": "84d0aa46",
   "metadata": {},
   "source": [
    "### 4-1. 데이터 X를 변수별 평균 0으로 centering 한 데이터 X'을 구하시오. </b>"
   ]
  },
  {
   "cell_type": "code",
   "execution_count": null,
   "id": "373edd51",
   "metadata": {},
   "outputs": [],
   "source": []
  },
  {
   "cell_type": "markdown",
   "id": "66e333cf",
   "metadata": {},
   "source": [
    "### 4-2. 데이터 X'의 공분산행렬 cov를 구하시오. </b>"
   ]
  },
  {
   "cell_type": "code",
   "execution_count": null,
   "id": "50aa9536",
   "metadata": {},
   "outputs": [],
   "source": []
  },
  {
   "cell_type": "markdown",
   "id": "42f277ad",
   "metadata": {},
   "source": [
    "### 4-3. cov의 고유값과 고유벡터를 구하시오. </b>"
   ]
  },
  {
   "cell_type": "code",
   "execution_count": null,
   "id": "b93f81d6",
   "metadata": {},
   "outputs": [],
   "source": []
  },
  {
   "cell_type": "markdown",
   "id": "ce6c3b6c",
   "metadata": {},
   "source": [
    "### 4-4. 주성분을 1로 설정하고자 할 때, cov의 고유벡터를 출력하시오. </b>"
   ]
  },
  {
   "cell_type": "code",
   "execution_count": null,
   "id": "7b8e418b",
   "metadata": {},
   "outputs": [],
   "source": []
  },
  {
   "cell_type": "markdown",
   "id": "ed8073d7",
   "metadata": {},
   "source": [
    "### 4-5. 4-4에서 선택한 고유벡터를 가지고, X'을 새 좌표로 변환하여 주성분 벡터를 구하시오. </b>"
   ]
  },
  {
   "cell_type": "code",
   "execution_count": null,
   "id": "fc5f5d38",
   "metadata": {},
   "outputs": [],
   "source": []
  },
  {
   "cell_type": "markdown",
   "id": "75eebe2e",
   "metadata": {},
   "source": [
    "### 4-6. scikit-learn의 PCA 라이브러리를 사용하여, 데이터 X'의 주성분이 1일 때의 주성분 벡터를 구하고, 4-5의 결과와 비교하시오. </b>"
   ]
  },
  {
   "cell_type": "code",
   "execution_count": 58,
   "id": "da19e0e1",
   "metadata": {},
   "outputs": [],
   "source": [
    "from sklearn.decomposition import PCA"
   ]
  },
  {
   "cell_type": "code",
   "execution_count": null,
   "id": "7debb5ad",
   "metadata": {},
   "outputs": [],
   "source": []
  }
 ],
 "metadata": {
  "kernelspec": {
   "display_name": "Python 3 (ipykernel)",
   "language": "python",
   "name": "python3"
  },
  "language_info": {
   "codemirror_mode": {
    "name": "ipython",
    "version": 3
   },
   "file_extension": ".py",
   "mimetype": "text/x-python",
   "name": "python",
   "nbconvert_exporter": "python",
   "pygments_lexer": "ipython3",
   "version": "3.8.10"
  }
 },
 "nbformat": 4,
 "nbformat_minor": 5
}
