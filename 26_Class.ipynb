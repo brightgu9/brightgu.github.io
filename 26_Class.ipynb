{
 "cells": [
  {
   "cell_type": "code",
   "execution_count": 9,
   "metadata": {},
   "outputs": [
    {
     "name": "stdout",
     "output_type": "stream",
     "text": [
      "마린 유닛이 생성되었습니다\n",
      "체력 40, 공격력 5\n",
      "\n",
      "탱크 유닛이 생성되었습니다\n",
      "체력 159, 공격력 35\n",
      "\n",
      "마린 : 1시 방향으로 적군을 공격합니다. [공격력 5]\n",
      "탱크 : 1시 방향으로 적군을 공격합니다. [공격력 35]\n"
     ]
    }
   ],
   "source": [
    "# 마린 : 공격 유닛, 군인. 총을 쏠 수 있음\n",
    "name = \"마린\" # 유닛의 이름\n",
    "hp = 40 # 유닛의 체력\n",
    "damage = 5 # 유닛의 공격력\n",
    "\n",
    "print(\"{} 유닛이 생성되었습니다\".format(name))\n",
    "print(\"체력 {0}, 공격력 {1}\\n\".format(hp, damage))\n",
    "\n",
    "tank_name = \"탱크\"\n",
    "tank_hp = 159\n",
    "tank_damage = 35\n",
    "print(\"{} 유닛이 생성되었습니다\".format(tank_name))\n",
    "print(\"체력 {0}, 공격력 {1}\\n\".format(tank_hp, tank_damage))\n",
    "\n",
    "def attack(name, location, damage):\n",
    "    print(\"{0} : {1} 방향으로 적군을 공격합니다. [공격력 {2}]\".format(\\\n",
    "        name, location, damage))\n",
    "attack(name, \"1시\", damage)\n",
    "attack(tank_name, \"1시\", tank_damage)\n"
   ]
  },
  {
   "cell_type": "markdown",
   "metadata": {},
   "source": [
    "Class"
   ]
  },
  {
   "cell_type": "code",
   "execution_count": 31,
   "metadata": {},
   "outputs": [
    {
     "name": "stdout",
     "output_type": "stream",
     "text": [
      "레이스 유닛이 생성되었습니다\n",
      "체력 80, 공격력 5\n",
      "\n",
      "유닛 이름 : 레이스, 공격력 : 5\n",
      "빼앗은 레이스 유닛이 생성되었습니다\n",
      "체력 80, 공격력 5\n",
      "\n",
      "빼앗은 레이스 는 현재 클로킹 상태입니다\n"
     ]
    }
   ],
   "source": [
    "class Unit:\n",
    "    def __init__(self, name, hp, damage): # 생성자\n",
    "        self.name = name # 멤버변수\n",
    "        self.hp = hp\n",
    "        self.damage = damage\n",
    "        print(\"{} 유닛이 생성되었습니다\".format(self.name))\n",
    "        print(\"체력 {0}, 공격력 {1}\\n\".format(self.hp, self.damage))\n",
    "\n",
    "# marine1 = Unit(\"마린\", 40, 5)\n",
    "# marine2 = Unit(\"마린\", 40, 5)\n",
    "# tank = Unit(\"탱크\", 150, 35)\n",
    "        \n",
    "# 레이스 : 공중 유닛, 비행기. 클로킹(스텔스)\n",
    "wraith1 = Unit(\"레이스\", 80, 5)\n",
    "print(\"유닛 이름 : {0}, 공격력 : {1}\".format(wraith1.name, wraith1.damage))\n",
    "\n",
    "# 마인드 컨트롤 : 상대방 유닛을 내 것으로 만드는 것\n",
    "wraith2 = Unit(\"빼앗은 레이스\", 80, 5)\n",
    "wraith2.clocking = True\n",
    "\n",
    "if wraith2.clocking == True:\n",
    "    print(\"{0} 는 현재 클로킹 상태입니다\".format(wraith2.name))"
   ]
  }
 ],
 "metadata": {
  "kernelspec": {
   "display_name": "base",
   "language": "python",
   "name": "python3"
  },
  "language_info": {
   "codemirror_mode": {
    "name": "ipython",
    "version": 3
   },
   "file_extension": ".py",
   "mimetype": "text/x-python",
   "name": "python",
   "nbconvert_exporter": "python",
   "pygments_lexer": "ipython3",
   "version": "3.11.5"
  }
 },
 "nbformat": 4,
 "nbformat_minor": 2
}
