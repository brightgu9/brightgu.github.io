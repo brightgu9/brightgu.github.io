{
 "cells": [
  {
   "cell_type": "code",
   "execution_count": 9,
   "metadata": {},
   "outputs": [
    {
     "name": "stdout",
     "output_type": "stream",
     "text": [
      "마린 유닛이 생성되었습니다\n",
      "체력 40, 공격력 5\n",
      "\n",
      "탱크 유닛이 생성되었습니다\n",
      "체력 159, 공격력 35\n",
      "\n",
      "마린 : 1시 방향으로 적군을 공격합니다. [공격력 5]\n",
      "탱크 : 1시 방향으로 적군을 공격합니다. [공격력 35]\n"
     ]
    }
   ],
   "source": [
    "# 마린 : 공격 유닛, 군인. 총을 쏠 수 있음\n",
    "name = \"마린\" # 유닛의 이름\n",
    "hp = 40 # 유닛의 체력\n",
    "damage = 5 # 유닛의 공격력\n",
    "\n",
    "print(\"{} 유닛이 생성되었습니다\".format(name))\n",
    "print(\"체력 {0}, 공격력 {1}\\n\".format(hp, damage))\n",
    "\n",
    "tank_name = \"탱크\"\n",
    "tank_hp = 159\n",
    "tank_damage = 35\n",
    "print(\"{} 유닛이 생성되었습니다\".format(tank_name))\n",
    "print(\"체력 {0}, 공격력 {1}\\n\".format(tank_hp, tank_damage))\n",
    "\n",
    "def attack(name, location, damage):\n",
    "    print(\"{0} : {1} 방향으로 적군을 공격합니다. [공격력 {2}]\".format(\\\n",
    "        name, location, damage))\n",
    "attack(name, \"1시\", damage)\n",
    "attack(tank_name, \"1시\", tank_damage)\n"
   ]
  },
  {
   "cell_type": "markdown",
   "metadata": {},
   "source": [
    "Class"
   ]
  },
  {
   "cell_type": "code",
   "execution_count": 1,
   "metadata": {},
   "outputs": [
    {
     "name": "stdout",
     "output_type": "stream",
     "text": [
      "레이스 유닛이 생성되었습니다\n",
      "체력 80, 공격력 5\n",
      "\n",
      "유닛 이름 : 레이스, 공격력 : 5\n",
      "빼앗은 레이스 유닛이 생성되었습니다\n",
      "체력 80, 공격력 5\n",
      "\n",
      "빼앗은 레이스 는 현재 클로킹 상태입니다\n"
     ]
    }
   ],
   "source": [
    "class Unit:\n",
    "    def __init__(self, name, hp, damage): # 생성자\n",
    "        self.name = name # 멤버변수\n",
    "        self.hp = hp\n",
    "        self.damage = damage\n",
    "        print(\"{} 유닛이 생성되었습니다\".format(self.name))\n",
    "        print(\"체력 {0}, 공격력 {1}\\n\".format(self.hp, self.damage))\n",
    "\n",
    "# marine1 = Unit(\"마린\", 40, 5)\n",
    "# marine2 = Unit(\"마린\", 40, 5)\n",
    "# tank = Unit(\"탱크\", 150, 35)\n",
    "        \n",
    "# 레이스 : 공중 유닛, 비행기. 클로킹(스텔스)\n",
    "wraith1 = Unit(\"레이스\", 80, 5)\n",
    "print(\"유닛 이름 : {0}, 공격력 : {1}\".format(wraith1.name, wraith1.damage))\n",
    "\n",
    "# 마인드 컨트롤 : 상대방 유닛을 내 것으로 만드는 것\n",
    "wraith2 = Unit(\"빼앗은 레이스\", 80, 5)\n",
    "wraith2.clocking = True\n",
    "\n",
    "if wraith2.clocking == True:\n",
    "    print(\"{0} 는 현재 클로킹 상태입니다\".format(wraith2.name))"
   ]
  },
  {
   "cell_type": "markdown",
   "metadata": {},
   "source": [
    "메서드"
   ]
  },
  {
   "cell_type": "code",
   "execution_count": 17,
   "metadata": {},
   "outputs": [
    {
     "name": "stdout",
     "output_type": "stream",
     "text": [
      "파이어뱃 : 5시 방향으로 적군을 공격합니다. [공격력 16]\n",
      "파이어뱃 : 25 데미지를 입었습니다\n",
      "파이어뱃 : 현재 체력은 25입니다.\n",
      "파이어뱃 : 6시 방향으로 적군을 공격합니다. [공격력 16]\n",
      "파이어뱃 : 25 데미지를 입었습니다\n",
      "파이어뱃 : 현재 체력은 0입니다.\n",
      "파이어뱃 이 파괴되었습니다.\n"
     ]
    }
   ],
   "source": [
    "# 일반 유닛\n",
    "class Unit:\n",
    "    def __init__(self, name, hp, damage): # 생성자\n",
    "        self.name = name # 멤버변수\n",
    "        self.hp = hp\n",
    "        self.damage = damage\n",
    "        print(\"{} 유닛이 생성되었습니다\".format(self.name))\n",
    "        print(\"체력 {0}, 공격력 {1}\\n\".format(self.hp, self.damage))\n",
    "\n",
    "class AttackUnit:\n",
    "    def __init__(self, name, hp, damage): # 생성자\n",
    "        self.name = name # 멤버변수\n",
    "        self.hp = hp\n",
    "        self.damage = damage\n",
    "\n",
    "    def attack(self, location):\n",
    "        print(\"{0} : {1} 방향으로 적군을 공격합니다. [공격력 {2}]\" \\\n",
    "              .format(self.name, location, self.damage))\n",
    "        \n",
    "    def damaged(self, damage):\n",
    "        print(\"{0} : {1} 데미지를 입었습니다\".format(self.name, damage))\n",
    "        self.hp -= damage\n",
    "        print(\"{0} : 현재 체력은 {1}입니다.\".format(self.name, self.hp))\n",
    "        if self.hp <= 0:\n",
    "            print(\"{0} 이 파괴되었습니다.\".format(self.name))\n",
    "\n",
    "# 파이어뱃 : 공격 유닛, 화염방사기\n",
    "firebat1 = AttackUnit(\"파이어뱃\", 50, 16) # name, hp, damage\n",
    "firebat1.attack(\"5시\")\n",
    "\n",
    "# 공격을 2번 받는다고 가정\n",
    "firebat1.damaged(25)\n",
    "firebat1.attack(\"6시\")\n",
    "firebat1.damaged(25)"
   ]
  },
  {
   "cell_type": "code",
   "execution_count": 21,
   "metadata": {},
   "outputs": [
    {
     "name": "stdout",
     "output_type": "stream",
     "text": [
      "파이어뱃 : 5시 방향으로 적군을 공격합니다. [공격력 16]\n",
      "파이어뱃 : 25 데미지를 입었습니다\n",
      "파이어뱃 : 현재 체력은 25입니다.\n",
      "파이어뱃 : 6시 방향으로 적군을 공격합니다. [공격력 16]\n",
      "파이어뱃 : 25 데미지를 입었습니다\n",
      "파이어뱃 : 현재 체력은 0입니다.\n",
      "파이어뱃 이 파괴되었습니다.\n"
     ]
    }
   ],
   "source": [
    "# 일반 유닛\n",
    "class Unit: # 부모 클래스\n",
    "    def __init__(self, name, hp): # 생성자\n",
    "        self.name = name # 멤버변수\n",
    "        self.hp = hp\n",
    "\n",
    "# 메딕같은 데미지가 없는, 생성자에 빈칸이 있을때 공통된 생성자만 상속받게 \n",
    "\n",
    "# 공격 유닛\n",
    "class AttackUnit(Unit): # 상속 클래스\n",
    "    def __init__(self, name, hp, damage): # 생성자\n",
    "        Unit.__init__(self, name, hp)\n",
    "        self.damage = damage\n",
    "\n",
    "    def attack(self, location):\n",
    "        print(\"{0} : {1} 방향으로 적군을 공격합니다. [공격력 {2}]\" \\\n",
    "              .format(self.name, location, self.damage))\n",
    "        \n",
    "    def damaged(self, damage):\n",
    "        print(\"{0} : {1} 데미지를 입었습니다\".format(self.name, damage))\n",
    "        self.hp -= damage\n",
    "        print(\"{0} : 현재 체력은 {1}입니다.\".format(self.name, self.hp))\n",
    "        if self.hp <= 0:\n",
    "            print(\"{0} 이 파괴되었습니다.\".format(self.name))\n",
    "\n",
    "# 파이어뱃 : 공격 유닛, 화염방사기\n",
    "firebat1 = AttackUnit(\"파이어뱃\", 50, 16) # name, hp, damage\n",
    "firebat1.attack(\"5시\")\n",
    "\n",
    "# 공격을 2번 받는다고 가정\n",
    "firebat1.damaged(25)\n",
    "firebat1.attack(\"6시\")\n",
    "firebat1.damaged(25)"
   ]
  },
  {
   "cell_type": "code",
   "execution_count": 25,
   "metadata": {},
   "outputs": [
    {
     "name": "stdout",
     "output_type": "stream",
     "text": [
      "발키리 : 3시 방향으로 날아갑니다. [속도 5]\n"
     ]
    }
   ],
   "source": [
    "# 일반 유닛\n",
    "class Unit: # 부모 클래스\n",
    "    def __init__(self, name, hp): # 생성자\n",
    "        self.name = name # 멤버변수\n",
    "        self.hp = hp\n",
    "\n",
    "# 메딕같은 데미지가 없는, 생성자에 빈칸이 있을때 공통된 생성자만 상속받게 \n",
    "\n",
    "# 공격 유닛\n",
    "class AttackUnit(Unit): # 상속 클래스\n",
    "    def __init__(self, name, hp, damage): # 생성자\n",
    "        Unit.__init__(self, name, hp)\n",
    "        self.damage = damage\n",
    "\n",
    "    def attack(self, location):\n",
    "        print(\"{0} : {1} 방향으로 적군을 공격합니다. [공격력 {2}]\" \\\n",
    "              .format(self.name, location, self.damage))\n",
    "        \n",
    "    def damaged(self, damage):\n",
    "        print(\"{0} : {1} 데미지를 입었습니다\".format(self.name, damage))\n",
    "        self.hp -= damage\n",
    "        print(\"{0} : 현재 체력은 {1}입니다.\".format(self.name, self.hp))\n",
    "        if self.hp <= 0:\n",
    "            print(\"{0} 이 파괴되었습니다.\".format(self.name))\n",
    "\n",
    "class Flyable:\n",
    "    def __init__(self, flying_speed):\n",
    "        self.flying_speed = flying_speed\n",
    "\n",
    "    def fly(self, name, location):\n",
    "        print(\"{0} : {1} 방향으로 날아갑니다. [속도 {2}]\"\\\n",
    "              .format(name, location, self.flying_speed))\n",
    "\n",
    "# 공중 공격 유닛 클래스\n",
    "class FlyAttackUnit(AttackUnit, Flyable): # 다중상속\n",
    "    def __init__(self, name, hp, damage, flying_speed):\n",
    "        AttackUnit.__init__(self, name, hp, damage)\n",
    "        Flyable.__init__(self, flying_speed)\n",
    "\n",
    "# 발키리 : 공중 공격 유닛, 한번에 14발 미사일 발사\n",
    "valkyrie = FlyAttackUnit(\"발키리\", 200, 6, 5)\n",
    "valkyrie.fly(valkyrie.name, \"3시\")"
   ]
  }
 ],
 "metadata": {
  "kernelspec": {
   "display_name": "base",
   "language": "python",
   "name": "python3"
  },
  "language_info": {
   "codemirror_mode": {
    "name": "ipython",
    "version": 3
   },
   "file_extension": ".py",
   "mimetype": "text/x-python",
   "name": "python",
   "nbconvert_exporter": "python",
   "pygments_lexer": "ipython3",
   "version": "3.11.5"
  }
 },
 "nbformat": 4,
 "nbformat_minor": 2
}
