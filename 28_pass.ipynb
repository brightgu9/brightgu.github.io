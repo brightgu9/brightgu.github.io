{
 "cells": [
  {
   "cell_type": "markdown",
   "metadata": {},
   "source": [
    "pass"
   ]
  },
  {
   "cell_type": "code",
   "execution_count": 11,
   "metadata": {},
   "outputs": [],
   "source": [
    "# 일반 유닛\n",
    "class Unit: # 부모 클래스\n",
    "    def __init__(self, name, hp, speed): # 생성자\n",
    "        self.name = name # 멤버변수\n",
    "        self.hp = hp\n",
    "        self.speed = speed\n",
    "\n",
    "    def move(self, location):\n",
    "        print(\"[지상 유닛 이동]\")\n",
    "        print(\"{0} : {1} 방향으로 이동합니다. [속도 {2}]\"\\\n",
    "              .format(self.name, location, self.speed))\n",
    "# 메딕같은 데미지가 없는, 생성자에 빈칸이 있을때 공통된 생성자만 상속받게 \n",
    "\n",
    "# 공격 유닛\n",
    "class AttackUnit(Unit): # 상속 클래스\n",
    "    def __init__(self, name, hp, speed, damage): # 생성자\n",
    "        Unit.__init__(self, name, hp, speed)\n",
    "        self.damage = damage\n",
    "\n",
    "    def attack(self, location):\n",
    "        print(\"{0} : {1} 방향으로 적군을 공격합니다. [공격력 {2}]\" \\\n",
    "              .format(self.name, location, self.damage))\n",
    "        \n",
    "    def damaged(self, damage):\n",
    "        print(\"{0} : {1} 데미지를 입었습니다\".format(self.name, damage))\n",
    "        self.hp -= damage\n",
    "        print(\"{0} : 현재 체력은 {1}입니다.\".format(self.name, self.hp))\n",
    "        if self.hp <= 0:\n",
    "            print(\"{0} 이 파괴되었습니다.\".format(self.name))\n",
    "\n",
    "class Flyable:\n",
    "    def __init__(self, flying_speed):\n",
    "        self.flying_speed = flying_speed\n",
    "\n",
    "    def fly(self, name, location):\n",
    "        print(\"{0} : {1} 방향으로 날아갑니다. [속도 {2}]\"\\\n",
    "              .format(name, location, self.flying_speed))\n",
    "\n",
    "# 공중 공격 유닛 클래스\n",
    "class FlyAttackUnit(AttackUnit, Flyable): # 다중상속\n",
    "    def __init__(self, name, hp, damage, flying_speed):\n",
    "        AttackUnit.__init__(self, name, hp, 0, damage) # 지상 speed 0\n",
    "        Flyable.__init__(self, flying_speed)\n",
    "\n",
    "    def move(self, location): # move 함수 재정의\n",
    "        print(\"[공중 유닛 이동]\")\n",
    "        self.fly(self.name, location)\n",
    "\n",
    "# 건물\n",
    "class BuildingUnit(Unit):\n",
    "    def __init__(self, name, hp, location):\n",
    "        # Unit.__init__(self, name, hp, 0)\n",
    "        super().__init__(name, hp, 0) # 윗 문장과 동일하지만 self 를 안씀\n",
    "        self.location = location\n",
    "        \n",
    "# 서플라이 디폿 : 건물, 1개 건물 = 인구수 8 추가됨\n",
    "supply_depot = BuildingUnit(\"서플라이 디폿\", 500, \"7시\")"
   ]
  },
  {
   "cell_type": "markdown",
   "metadata": {},
   "source": [
    "다중상속 받을때 super함수를 쓰면 안되는 예시"
   ]
  },
  {
   "cell_type": "code",
   "execution_count": 13,
   "metadata": {},
   "outputs": [
    {
     "name": "stdout",
     "output_type": "stream",
     "text": [
      "Flyable 생성자\n"
     ]
    }
   ],
   "source": [
    "class Unit:\n",
    "    def __init__(self):\n",
    "        print(\"Unit 생성자\")\n",
    "\n",
    "class Flyable:\n",
    "    def __init__(self):\n",
    "        print(\"Flyable 생성자\")\n",
    "\n",
    "class FlyableUnit(Flyable, Unit): # 상속 순서가 결과에 영향을 미침\n",
    "    def __init__(self):\n",
    "        super().__init__() # 두개 이상 다중상속 받을 때 맨 처음 상속받은 클래스만 호출이 됨\n",
    "        # Unit.__init__(self) # 둘다 호출해야됨\n",
    "        # Flyable.__init__(self)\n",
    "\n",
    "# 드랍쉽\n",
    "dropship = FlyableUnit()"
   ]
  }
 ],
 "metadata": {
  "kernelspec": {
   "display_name": "base",
   "language": "python",
   "name": "python3"
  },
  "language_info": {
   "codemirror_mode": {
    "name": "ipython",
    "version": 3
   },
   "file_extension": ".py",
   "mimetype": "text/x-python",
   "name": "python",
   "nbconvert_exporter": "python",
   "pygments_lexer": "ipython3",
   "version": "3.11.5"
  }
 },
 "nbformat": 4,
 "nbformat_minor": 2
}
